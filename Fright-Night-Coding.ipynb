{
 "cells": [
  {
   "cell_type": "markdown",
   "id": "f3c96128",
   "metadata": {},
   "source": [
    "### Day 1"
   ]
  },
  {
   "cell_type": "code",
   "execution_count": 25,
   "id": "fd1c9c83",
   "metadata": {},
   "outputs": [
    {
     "name": "stdout",
     "output_type": "stream",
     "text": [
      "3: 121\n",
      "9: 107\n",
      "2: 107\n",
      "1: 106\n",
      "7: 95\n",
      "4: 95\n",
      "0: 95\n",
      "8: 94\n",
      "6: 91\n",
      "5: 89\n"
     ]
    }
   ],
   "source": [
    "with open('hyperskill-dataset-117278585.txt', 'r') as file:\n",
    "    data = file.read()\n",
    "number_frequencies = {}\n",
    "for char in data:\n",
    "\tif char.isdigit():\n",
    "\t\tif char in number_frequencies:\n",
    "\t\t\tnumber_frequencies[char] += 1\n",
    "\t\telse:\n",
    "\t\t\tnumber_frequencies[char] = 1\n",
    "for number, frequency in sorted(number_frequencies.items(), reverse=True, key=lambda item: item[1]):\n",
    "\tprint(f\"{number}: {frequency}\")"
   ]
  },
  {
   "cell_type": "markdown",
   "id": "ed432951",
   "metadata": {},
   "source": [
    "### Day 2"
   ]
  },
  {
   "cell_type": "code",
   "execution_count": 26,
   "id": "79622134",
   "metadata": {},
   "outputs": [
    {
     "name": "stdout",
     "output_type": "stream",
     "text": [
      "263\n"
     ]
    }
   ],
   "source": [
    "with open('hyperskill-dataset-117290892.txt', 'r') as file:\n",
    "\tdata = file.read()\n",
    "angles = [int(angle) for angle in data.split(',')]\n",
    "result_angle = sum(angles) % 360\n",
    "print(result_angle)"
   ]
  },
  {
   "cell_type": "markdown",
   "id": "ada51ac1",
   "metadata": {},
   "source": [
    "### Day 3"
   ]
  },
  {
   "cell_type": "code",
   "execution_count": 27,
   "id": "b0dcdb1c",
   "metadata": {},
   "outputs": [
    {
     "name": "stdout",
     "output_type": "stream",
     "text": [
      "kitchen\n"
     ]
    }
   ],
   "source": [
    "with open('hyperskill-dataset-117334928.txt', 'r') as file:\n",
    "\tdata = file.read()\n",
    "char_frequencies = {}\n",
    "for char in data:\n",
    "\tif char.isalpha():\n",
    "\t\tif char in char_frequencies:\n",
    "\t\t\tchar_frequencies[char] += 1\n",
    "\t\telse:\n",
    "\t\t\tchar_frequencies[char] = 1\n",
    "unique_letters = []\n",
    "for char in data:\n",
    "\tif char_frequencies.get(char, 0) == 1:\n",
    "\t\tunique_letters.append(char)\n",
    "print(''.join(unique_letters))"
   ]
  },
  {
   "cell_type": "markdown",
   "id": "9618c8c2",
   "metadata": {},
   "source": [
    "### Day 4"
   ]
  },
  {
   "cell_type": "code",
   "execution_count": null,
   "id": "12995af5",
   "metadata": {},
   "outputs": [
    {
     "name": "stdout",
     "output_type": "stream",
     "text": [
      "EJJHLIHJKFIMPJIDAFOJOAFKAEBFBOOOOMEEEOCMDEMEDELIHDCIIOKPFGNCEIGP\n"
     ]
    }
   ],
   "source": [
    "with open ('hyperskill-dataset-117345576.txt', 'r') as file:\n",
    "\tinstructions = file.readlines()\n",
    "instructions = [instr.strip().split(',') for instr in instructions]\n",
    "keypad = [\n",
    "\t['A', 'B', 'C', 'D'],\n",
    "\t['E', 'F', 'G', 'H'],\n",
    "\t['I', 'J', 'K', 'L'],\n",
    "\t['M', 'N', 'O', 'P']\n",
    "]\n",
    "test_instructions = [['DOWN', 'LEFT', 'RIGHT', 'UP', 'UP', 'RIGHT']]\n",
    "code = []\n",
    "for instr_set in instructions:\n",
    "\trow, col = 0, 0\n",
    "\tfor instr in instr_set:\n",
    "\t\tif instr == 'UP' and row > 0:\n",
    "\t\t\trow -= 1\n",
    "\t\telif instr == 'DOWN' and row < 3:\n",
    "\t\t\trow += 1\n",
    "\t\telif instr == 'LEFT' and col > 0:\n",
    "\t\t\tcol -= 1\n",
    "\t\telif instr == 'RIGHT' and col < 3:\n",
    "\t\t\tcol += 1\n",
    "\tcode.append(keypad[row][col])\n",
    "print(''.join(code))"
   ]
  },
  {
   "cell_type": "markdown",
   "id": "21b1d25b",
   "metadata": {},
   "source": [
    "### Day 5"
   ]
  },
  {
   "cell_type": "code",
   "execution_count": null,
   "id": "230dcaea",
   "metadata": {},
   "outputs": [
    {
     "name": "stdout",
     "output_type": "stream",
     "text": [
      "GFADCEB\n"
     ]
    }
   ],
   "source": [
    "with open ('hyperskill-dataset-117378911.txt', 'r') as file:\n",
    "\tnotes = file.read().strip()\n",
    "unique_notes = set(notes)\n",
    "min_length = len(notes) + 1\n",
    "min_segment = \"\"\n",
    "for start in range(len(notes)):\n",
    "\tfor end in range(start + 1, len(notes) + 1):\n",
    "\t\tsegment = notes[start:end]\n",
    "\t\tif set(segment) == unique_notes:\n",
    "\t\t\tif len(segment) < min_length:\n",
    "\t\t\t\tmin_length = len(segment)\n",
    "\t\t\t\tmin_segment = segment\n",
    "\t\t\tbreak\n",
    "print(min_segment)"
   ]
  },
  {
   "cell_type": "markdown",
   "id": "4d0506e0",
   "metadata": {},
   "source": [
    "### Day 6"
   ]
  },
  {
   "cell_type": "code",
   "execution_count": 3,
   "id": "179cde96",
   "metadata": {},
   "outputs": [
    {
     "name": "stdout",
     "output_type": "stream",
     "text": [
      "158209\n"
     ]
    }
   ],
   "source": [
    "with open ('hyperskill-dataset-117417983.txt', 'r') as file:\n",
    "\tdata = file.readlines()\n",
    "data = [line.strip() for line in data]\n",
    "# split each line by commas and convert to integers\n",
    "points = [list(map(int, line.split(','))) for line in data]\n",
    "# calculate euclidean distance from one point to the next, rounded up to the nearest integer and sum them up\n",
    "import math\n",
    "total_distance = sum(math.ceil(math.dist(points[i], points[i + 1])) for i in range(len(points) - 1))\n",
    "print(total_distance)"
   ]
  }
 ],
 "metadata": {
  "kernelspec": {
   "display_name": ".venv",
   "language": "python",
   "name": "python3"
  },
  "language_info": {
   "codemirror_mode": {
    "name": "ipython",
    "version": 3
   },
   "file_extension": ".py",
   "mimetype": "text/x-python",
   "name": "python",
   "nbconvert_exporter": "python",
   "pygments_lexer": "ipython3",
   "version": "3.12.9"
  }
 },
 "nbformat": 4,
 "nbformat_minor": 5
}
